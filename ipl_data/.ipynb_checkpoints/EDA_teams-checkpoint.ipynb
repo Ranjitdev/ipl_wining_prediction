{
 "cells": [
  {
   "cell_type": "code",
   "execution_count": 1,
   "id": "eb2b0dd8",
   "metadata": {},
   "outputs": [],
   "source": [
    "import pandas as pd\n",
    "import numpy as np\n",
    "import seaborn as sns\n",
    "import matplotlib.pyplot as plt\n",
    "pd.set_option('display.max_columns', None)\n",
    "%matplotlib inline"
   ]
  },
  {
   "cell_type": "code",
   "execution_count": 2,
   "id": "ba139868",
   "metadata": {},
   "outputs": [
    {
     "data": {
      "text/html": [
       "<div>\n",
       "<style scoped>\n",
       "    .dataframe tbody tr th:only-of-type {\n",
       "        vertical-align: middle;\n",
       "    }\n",
       "\n",
       "    .dataframe tbody tr th {\n",
       "        vertical-align: top;\n",
       "    }\n",
       "\n",
       "    .dataframe thead th {\n",
       "        text-align: right;\n",
       "    }\n",
       "</style>\n",
       "<table border=\"1\" class=\"dataframe\">\n",
       "  <thead>\n",
       "    <tr style=\"text-align: right;\">\n",
       "      <th></th>\n",
       "      <th>ID</th>\n",
       "      <th>City</th>\n",
       "      <th>Date</th>\n",
       "      <th>Season</th>\n",
       "      <th>MatchNumber</th>\n",
       "      <th>Team1</th>\n",
       "      <th>Team2</th>\n",
       "      <th>Venue</th>\n",
       "      <th>TossWinner</th>\n",
       "      <th>TossDecision</th>\n",
       "      <th>SuperOver</th>\n",
       "      <th>WinningTeam</th>\n",
       "      <th>WonBy</th>\n",
       "      <th>Margin</th>\n",
       "      <th>method</th>\n",
       "      <th>Player_of_Match</th>\n",
       "      <th>Team1Players</th>\n",
       "      <th>Team2Players</th>\n",
       "      <th>Umpire1</th>\n",
       "      <th>Umpire2</th>\n",
       "    </tr>\n",
       "  </thead>\n",
       "  <tbody>\n",
       "    <tr>\n",
       "      <th>0</th>\n",
       "      <td>1312200</td>\n",
       "      <td>Ahmedabad</td>\n",
       "      <td>2022-05-29</td>\n",
       "      <td>2022</td>\n",
       "      <td>Final</td>\n",
       "      <td>Rajasthan Royals</td>\n",
       "      <td>Gujarat Titans</td>\n",
       "      <td>Narendra Modi Stadium, Ahmedabad</td>\n",
       "      <td>Rajasthan Royals</td>\n",
       "      <td>bat</td>\n",
       "      <td>N</td>\n",
       "      <td>Gujarat Titans</td>\n",
       "      <td>Wickets</td>\n",
       "      <td>7.0</td>\n",
       "      <td>NaN</td>\n",
       "      <td>HH Pandya</td>\n",
       "      <td>['YBK Jaiswal', 'JC Buttler', 'SV Samson', 'D ...</td>\n",
       "      <td>['WP Saha', 'Shubman Gill', 'MS Wade', 'HH Pan...</td>\n",
       "      <td>CB Gaffaney</td>\n",
       "      <td>Nitin Menon</td>\n",
       "    </tr>\n",
       "    <tr>\n",
       "      <th>1</th>\n",
       "      <td>1312199</td>\n",
       "      <td>Ahmedabad</td>\n",
       "      <td>2022-05-27</td>\n",
       "      <td>2022</td>\n",
       "      <td>Qualifier 2</td>\n",
       "      <td>Royal Challengers Bangalore</td>\n",
       "      <td>Rajasthan Royals</td>\n",
       "      <td>Narendra Modi Stadium, Ahmedabad</td>\n",
       "      <td>Rajasthan Royals</td>\n",
       "      <td>field</td>\n",
       "      <td>N</td>\n",
       "      <td>Rajasthan Royals</td>\n",
       "      <td>Wickets</td>\n",
       "      <td>7.0</td>\n",
       "      <td>NaN</td>\n",
       "      <td>JC Buttler</td>\n",
       "      <td>['V Kohli', 'F du Plessis', 'RM Patidar', 'GJ ...</td>\n",
       "      <td>['YBK Jaiswal', 'JC Buttler', 'SV Samson', 'D ...</td>\n",
       "      <td>CB Gaffaney</td>\n",
       "      <td>Nitin Menon</td>\n",
       "    </tr>\n",
       "  </tbody>\n",
       "</table>\n",
       "</div>"
      ],
      "text/plain": [
       "        ID       City        Date Season  MatchNumber  \\\n",
       "0  1312200  Ahmedabad  2022-05-29   2022        Final   \n",
       "1  1312199  Ahmedabad  2022-05-27   2022  Qualifier 2   \n",
       "\n",
       "                         Team1             Team2  \\\n",
       "0             Rajasthan Royals    Gujarat Titans   \n",
       "1  Royal Challengers Bangalore  Rajasthan Royals   \n",
       "\n",
       "                              Venue        TossWinner TossDecision SuperOver  \\\n",
       "0  Narendra Modi Stadium, Ahmedabad  Rajasthan Royals          bat         N   \n",
       "1  Narendra Modi Stadium, Ahmedabad  Rajasthan Royals        field         N   \n",
       "\n",
       "        WinningTeam    WonBy  Margin method Player_of_Match  \\\n",
       "0    Gujarat Titans  Wickets     7.0    NaN       HH Pandya   \n",
       "1  Rajasthan Royals  Wickets     7.0    NaN      JC Buttler   \n",
       "\n",
       "                                        Team1Players  \\\n",
       "0  ['YBK Jaiswal', 'JC Buttler', 'SV Samson', 'D ...   \n",
       "1  ['V Kohli', 'F du Plessis', 'RM Patidar', 'GJ ...   \n",
       "\n",
       "                                        Team2Players      Umpire1      Umpire2  \n",
       "0  ['WP Saha', 'Shubman Gill', 'MS Wade', 'HH Pan...  CB Gaffaney  Nitin Menon  \n",
       "1  ['YBK Jaiswal', 'JC Buttler', 'SV Samson', 'D ...  CB Gaffaney  Nitin Menon  "
      ]
     },
     "execution_count": 2,
     "metadata": {},
     "output_type": "execute_result"
    }
   ],
   "source": [
    "raw_data = pd.read_csv('IPL_Matches_2008_2022.csv')\n",
    "raw_data.head(2)"
   ]
  },
  {
   "cell_type": "code",
   "execution_count": 3,
   "id": "56426457",
   "metadata": {},
   "outputs": [
    {
     "data": {
      "text/plain": [
       "(950, 20)"
      ]
     },
     "execution_count": 3,
     "metadata": {},
     "output_type": "execute_result"
    }
   ],
   "source": [
    "raw_data.shape"
   ]
  },
  {
   "cell_type": "code",
   "execution_count": 4,
   "id": "8a808ced",
   "metadata": {},
   "outputs": [
    {
     "data": {
      "text/plain": [
       "ID                   0\n",
       "City                51\n",
       "Date                 0\n",
       "Season               0\n",
       "MatchNumber          0\n",
       "Team1                0\n",
       "Team2                0\n",
       "Venue                0\n",
       "TossWinner           0\n",
       "TossDecision         0\n",
       "SuperOver            4\n",
       "WinningTeam          4\n",
       "WonBy                0\n",
       "Margin              18\n",
       "method             931\n",
       "Player_of_Match      4\n",
       "Team1Players         0\n",
       "Team2Players         0\n",
       "Umpire1              0\n",
       "Umpire2              0\n",
       "dtype: int64"
      ]
     },
     "execution_count": 4,
     "metadata": {},
     "output_type": "execute_result"
    }
   ],
   "source": [
    "raw_data.isna().sum()"
   ]
  },
  {
   "cell_type": "markdown",
   "id": "95308f2c",
   "metadata": {},
   "source": [
    "# Data Cleaning"
   ]
  },
  {
   "cell_type": "markdown",
   "id": "88bbd62f",
   "metadata": {},
   "source": [
    "### Many teams not playing now ipl so fixing with new data\n",
    "    Kings XI Punjab named Punjab Kings  \n",
    "    Delhi Daredevils named Delhi Capitals  \n",
    "    Deccan Chargers named Sunrisers Hyderabad  \n",
    "    Rising Pune Supergiant, Rising Pune Supergiants, Pune Warriors, Gujarat Lions, Kochi Tuskers Kerala dont play matches anymore"
   ]
  },
  {
   "cell_type": "code",
   "execution_count": 5,
   "id": "ce18e909",
   "metadata": {},
   "outputs": [],
   "source": [
    "def change_names(obj: str):\n",
    "    not_playing = [\n",
    "    'Rising Pune Supergiant', \n",
    "    'Rising Pune Supergiants', \n",
    "    'Pune Warriors', \n",
    "    'Gujarat Lions', \n",
    "    'Kochi Tuskers Kerala'\n",
    "    ]\n",
    "    if obj in not_playing:\n",
    "        return np.nan\n",
    "    elif obj == 'Kings XI Punjab':\n",
    "        return 'Punjab Kings'\n",
    "    elif obj == 'Delhi Daredevils':\n",
    "        return 'Delhi Capitals'\n",
    "    elif obj == 'Deccan Chargers':\n",
    "        return 'Sunrisers Hyderabad'\n",
    "    else:\n",
    "        return obj"
   ]
  },
  {
   "cell_type": "code",
   "execution_count": 6,
   "id": "c93647b5",
   "metadata": {},
   "outputs": [],
   "source": [
    "raw_data['Team1'] = raw_data['Team1'].apply(change_names)\n",
    "raw_data['Team2'] = raw_data['Team2'].apply(change_names)\n",
    "raw_data['WinningTeam'] = raw_data['WinningTeam'].apply(change_names)"
   ]
  },
  {
   "cell_type": "markdown",
   "id": "d3ca4e95",
   "metadata": {},
   "source": [
    "### Season, City, TossWinner, TossDecision, SuperOver, Margin, method, Umpire1, Umpire2 columns are unnecessary for my model"
   ]
  },
  {
   "cell_type": "code",
   "execution_count": 7,
   "id": "54e98a63",
   "metadata": {},
   "outputs": [],
   "source": [
    "cls = ['Season', 'City', 'TossWinner', 'Team1', 'Team2', 'TossDecision', 'SuperOver', 'Margin', 'method', 'Umpire1', 'Umpire2']\n",
    "raw_data.drop(columns=cls, axis=1, inplace=True)"
   ]
  },
  {
   "cell_type": "markdown",
   "id": "0bb1db74",
   "metadata": {},
   "source": [
    "### Filtering and cleaning of data columns\n",
    "    1 Date is in date format we dont need so we have to make it year\n",
    "    2 winning team and player of the match have some null values in same row\n",
    "    3 Team1Players and Team2Players is in list format i have to rectify"
   ]
  },
  {
   "cell_type": "code",
   "execution_count": 8,
   "id": "ab6c7045",
   "metadata": {},
   "outputs": [],
   "source": [
    "raw_data.dropna(inplace=True, axis=0)"
   ]
  },
  {
   "cell_type": "markdown",
   "id": "858718dc",
   "metadata": {},
   "source": [
    "### Fixing Date"
   ]
  },
  {
   "cell_type": "code",
   "execution_count": 9,
   "id": "462f8e13",
   "metadata": {},
   "outputs": [],
   "source": [
    "for i in range(len(raw_data)):\n",
    "    raw_data.iloc[i, 1] = raw_data.iloc[i, 1].split('-')[0]\n",
    "raw_data['Date'] = raw_data['Date'].astype(int)"
   ]
  },
  {
   "cell_type": "markdown",
   "id": "07fcea33",
   "metadata": {},
   "source": [
    "### Fixing and player of the match"
   ]
  },
  {
   "cell_type": "code",
   "execution_count": 10,
   "id": "d713deb3",
   "metadata": {},
   "outputs": [],
   "source": [
    "for i in range(len(raw_data)):\n",
    "    raw_data.iloc[i, 7] = ','.join(eval(raw_data.iloc[i, 7]))"
   ]
  },
  {
   "cell_type": "code",
   "execution_count": 11,
   "id": "7f8b3491",
   "metadata": {},
   "outputs": [],
   "source": [
    "for i in range(len(raw_data)):\n",
    "    raw_data.iloc[i, 8] = ','.join(eval(raw_data.iloc[i, 8]))"
   ]
  },
  {
   "cell_type": "code",
   "execution_count": 12,
   "id": "e3745540",
   "metadata": {},
   "outputs": [
    {
     "data": {
      "text/html": [
       "<div>\n",
       "<style scoped>\n",
       "    .dataframe tbody tr th:only-of-type {\n",
       "        vertical-align: middle;\n",
       "    }\n",
       "\n",
       "    .dataframe tbody tr th {\n",
       "        vertical-align: top;\n",
       "    }\n",
       "\n",
       "    .dataframe thead th {\n",
       "        text-align: right;\n",
       "    }\n",
       "</style>\n",
       "<table border=\"1\" class=\"dataframe\">\n",
       "  <thead>\n",
       "    <tr style=\"text-align: right;\">\n",
       "      <th></th>\n",
       "      <th>ID</th>\n",
       "      <th>Date</th>\n",
       "      <th>MatchNumber</th>\n",
       "      <th>Venue</th>\n",
       "      <th>WinningTeam</th>\n",
       "      <th>WonBy</th>\n",
       "      <th>Player_of_Match</th>\n",
       "      <th>Team1Players</th>\n",
       "      <th>Team2Players</th>\n",
       "    </tr>\n",
       "  </thead>\n",
       "  <tbody>\n",
       "    <tr>\n",
       "      <th>0</th>\n",
       "      <td>1312200</td>\n",
       "      <td>2022</td>\n",
       "      <td>Final</td>\n",
       "      <td>Narendra Modi Stadium, Ahmedabad</td>\n",
       "      <td>Gujarat Titans</td>\n",
       "      <td>Wickets</td>\n",
       "      <td>HH Pandya</td>\n",
       "      <td>YBK Jaiswal,JC Buttler,SV Samson,D Padikkal,SO...</td>\n",
       "      <td>WP Saha,Shubman Gill,MS Wade,HH Pandya,DA Mill...</td>\n",
       "    </tr>\n",
       "    <tr>\n",
       "      <th>1</th>\n",
       "      <td>1312199</td>\n",
       "      <td>2022</td>\n",
       "      <td>Qualifier 2</td>\n",
       "      <td>Narendra Modi Stadium, Ahmedabad</td>\n",
       "      <td>Rajasthan Royals</td>\n",
       "      <td>Wickets</td>\n",
       "      <td>JC Buttler</td>\n",
       "      <td>V Kohli,F du Plessis,RM Patidar,GJ Maxwell,MK ...</td>\n",
       "      <td>YBK Jaiswal,JC Buttler,SV Samson,D Padikkal,SO...</td>\n",
       "    </tr>\n",
       "  </tbody>\n",
       "</table>\n",
       "</div>"
      ],
      "text/plain": [
       "        ID  Date  MatchNumber                             Venue  \\\n",
       "0  1312200  2022        Final  Narendra Modi Stadium, Ahmedabad   \n",
       "1  1312199  2022  Qualifier 2  Narendra Modi Stadium, Ahmedabad   \n",
       "\n",
       "        WinningTeam    WonBy Player_of_Match  \\\n",
       "0    Gujarat Titans  Wickets       HH Pandya   \n",
       "1  Rajasthan Royals  Wickets      JC Buttler   \n",
       "\n",
       "                                        Team1Players  \\\n",
       "0  YBK Jaiswal,JC Buttler,SV Samson,D Padikkal,SO...   \n",
       "1  V Kohli,F du Plessis,RM Patidar,GJ Maxwell,MK ...   \n",
       "\n",
       "                                        Team2Players  \n",
       "0  WP Saha,Shubman Gill,MS Wade,HH Pandya,DA Mill...  \n",
       "1  YBK Jaiswal,JC Buttler,SV Samson,D Padikkal,SO...  "
      ]
     },
     "execution_count": 12,
     "metadata": {},
     "output_type": "execute_result"
    }
   ],
   "source": [
    "raw_data.head(2)"
   ]
  },
  {
   "cell_type": "code",
   "execution_count": 13,
   "id": "8cc7448f",
   "metadata": {},
   "outputs": [
    {
     "data": {
      "text/plain": [
       "(900, 9)"
      ]
     },
     "execution_count": 13,
     "metadata": {},
     "output_type": "execute_result"
    }
   ],
   "source": [
    "raw_data.shape"
   ]
  },
  {
   "cell_type": "code",
   "execution_count": 14,
   "id": "ab60d964",
   "metadata": {},
   "outputs": [
    {
     "data": {
      "text/plain": [
       "ID                 0\n",
       "Date               0\n",
       "MatchNumber        0\n",
       "Venue              0\n",
       "WinningTeam        0\n",
       "WonBy              0\n",
       "Player_of_Match    0\n",
       "Team1Players       0\n",
       "Team2Players       0\n",
       "dtype: int64"
      ]
     },
     "execution_count": 14,
     "metadata": {},
     "output_type": "execute_result"
    }
   ],
   "source": [
    "raw_data.isna().sum()"
   ]
  },
  {
   "cell_type": "code",
   "execution_count": 15,
   "id": "849efb9a",
   "metadata": {},
   "outputs": [
    {
     "data": {
      "text/html": [
       "<div>\n",
       "<style scoped>\n",
       "    .dataframe tbody tr th:only-of-type {\n",
       "        vertical-align: middle;\n",
       "    }\n",
       "\n",
       "    .dataframe tbody tr th {\n",
       "        vertical-align: top;\n",
       "    }\n",
       "\n",
       "    .dataframe thead th {\n",
       "        text-align: right;\n",
       "    }\n",
       "</style>\n",
       "<table border=\"1\" class=\"dataframe\">\n",
       "  <thead>\n",
       "    <tr style=\"text-align: right;\">\n",
       "      <th></th>\n",
       "      <th>ID</th>\n",
       "      <th>innings</th>\n",
       "      <th>overs</th>\n",
       "      <th>ballnumber</th>\n",
       "      <th>batter</th>\n",
       "      <th>bowler</th>\n",
       "      <th>non-striker</th>\n",
       "      <th>extra_type</th>\n",
       "      <th>batsman_run</th>\n",
       "      <th>extras_run</th>\n",
       "      <th>total_run</th>\n",
       "      <th>non_boundary</th>\n",
       "      <th>isWicketDelivery</th>\n",
       "      <th>player_out</th>\n",
       "      <th>kind</th>\n",
       "      <th>fielders_involved</th>\n",
       "      <th>BattingTeam</th>\n",
       "    </tr>\n",
       "  </thead>\n",
       "  <tbody>\n",
       "    <tr>\n",
       "      <th>0</th>\n",
       "      <td>1312200</td>\n",
       "      <td>1</td>\n",
       "      <td>0</td>\n",
       "      <td>1</td>\n",
       "      <td>YBK Jaiswal</td>\n",
       "      <td>Mohammed Shami</td>\n",
       "      <td>JC Buttler</td>\n",
       "      <td>NaN</td>\n",
       "      <td>0</td>\n",
       "      <td>0</td>\n",
       "      <td>0</td>\n",
       "      <td>0</td>\n",
       "      <td>0</td>\n",
       "      <td>NaN</td>\n",
       "      <td>NaN</td>\n",
       "      <td>NaN</td>\n",
       "      <td>Rajasthan Royals</td>\n",
       "    </tr>\n",
       "    <tr>\n",
       "      <th>1</th>\n",
       "      <td>1312200</td>\n",
       "      <td>1</td>\n",
       "      <td>0</td>\n",
       "      <td>2</td>\n",
       "      <td>YBK Jaiswal</td>\n",
       "      <td>Mohammed Shami</td>\n",
       "      <td>JC Buttler</td>\n",
       "      <td>legbyes</td>\n",
       "      <td>0</td>\n",
       "      <td>1</td>\n",
       "      <td>1</td>\n",
       "      <td>0</td>\n",
       "      <td>0</td>\n",
       "      <td>NaN</td>\n",
       "      <td>NaN</td>\n",
       "      <td>NaN</td>\n",
       "      <td>Rajasthan Royals</td>\n",
       "    </tr>\n",
       "  </tbody>\n",
       "</table>\n",
       "</div>"
      ],
      "text/plain": [
       "        ID  innings  overs  ballnumber       batter          bowler  \\\n",
       "0  1312200        1      0           1  YBK Jaiswal  Mohammed Shami   \n",
       "1  1312200        1      0           2  YBK Jaiswal  Mohammed Shami   \n",
       "\n",
       "  non-striker extra_type  batsman_run  extras_run  total_run  non_boundary  \\\n",
       "0  JC Buttler        NaN            0           0          0             0   \n",
       "1  JC Buttler    legbyes            0           1          1             0   \n",
       "\n",
       "   isWicketDelivery player_out kind fielders_involved       BattingTeam  \n",
       "0                 0        NaN  NaN               NaN  Rajasthan Royals  \n",
       "1                 0        NaN  NaN               NaN  Rajasthan Royals  "
      ]
     },
     "execution_count": 15,
     "metadata": {},
     "output_type": "execute_result"
    }
   ],
   "source": [
    "raw_data1 = pd.read_csv('IPL_Ball_by_Ball_2008_2022.csv')\n",
    "raw_data1.head(2)"
   ]
  },
  {
   "cell_type": "code",
   "execution_count": 16,
   "id": "ae84a361",
   "metadata": {},
   "outputs": [
    {
     "data": {
      "text/html": [
       "<div>\n",
       "<style scoped>\n",
       "    .dataframe tbody tr th:only-of-type {\n",
       "        vertical-align: middle;\n",
       "    }\n",
       "\n",
       "    .dataframe tbody tr th {\n",
       "        vertical-align: top;\n",
       "    }\n",
       "\n",
       "    .dataframe thead th {\n",
       "        text-align: right;\n",
       "    }\n",
       "</style>\n",
       "<table border=\"1\" class=\"dataframe\">\n",
       "  <thead>\n",
       "    <tr style=\"text-align: right;\">\n",
       "      <th></th>\n",
       "      <th>ID</th>\n",
       "      <th>BattingTeam_x</th>\n",
       "      <th>total_run_x</th>\n",
       "      <th>BattingTeam_y</th>\n",
       "      <th>total_run_y</th>\n",
       "    </tr>\n",
       "  </thead>\n",
       "  <tbody>\n",
       "    <tr>\n",
       "      <th>0</th>\n",
       "      <td>1312200</td>\n",
       "      <td>Rajasthan Royals</td>\n",
       "      <td>130</td>\n",
       "      <td>Gujarat Titans</td>\n",
       "      <td>133</td>\n",
       "    </tr>\n",
       "    <tr>\n",
       "      <th>1</th>\n",
       "      <td>1312199</td>\n",
       "      <td>Royal Challengers Bangalore</td>\n",
       "      <td>157</td>\n",
       "      <td>Rajasthan Royals</td>\n",
       "      <td>161</td>\n",
       "    </tr>\n",
       "    <tr>\n",
       "      <th>2</th>\n",
       "      <td>1312198</td>\n",
       "      <td>Royal Challengers Bangalore</td>\n",
       "      <td>207</td>\n",
       "      <td>Lucknow Super Giants</td>\n",
       "      <td>193</td>\n",
       "    </tr>\n",
       "    <tr>\n",
       "      <th>3</th>\n",
       "      <td>1312197</td>\n",
       "      <td>Rajasthan Royals</td>\n",
       "      <td>188</td>\n",
       "      <td>Gujarat Titans</td>\n",
       "      <td>191</td>\n",
       "    </tr>\n",
       "    <tr>\n",
       "      <th>4</th>\n",
       "      <td>1304116</td>\n",
       "      <td>Sunrisers Hyderabad</td>\n",
       "      <td>157</td>\n",
       "      <td>Punjab Kings</td>\n",
       "      <td>160</td>\n",
       "    </tr>\n",
       "  </tbody>\n",
       "</table>\n",
       "</div>"
      ],
      "text/plain": [
       "        ID                BattingTeam_x  total_run_x         BattingTeam_y  \\\n",
       "0  1312200             Rajasthan Royals          130        Gujarat Titans   \n",
       "1  1312199  Royal Challengers Bangalore          157      Rajasthan Royals   \n",
       "2  1312198  Royal Challengers Bangalore          207  Lucknow Super Giants   \n",
       "3  1312197             Rajasthan Royals          188        Gujarat Titans   \n",
       "4  1304116          Sunrisers Hyderabad          157          Punjab Kings   \n",
       "\n",
       "   total_run_y  \n",
       "0          133  \n",
       "1          161  \n",
       "2          193  \n",
       "3          191  \n",
       "4          160  "
      ]
     },
     "execution_count": 16,
     "metadata": {},
     "output_type": "execute_result"
    }
   ],
   "source": [
    "df = pd.DataFrame(raw_data1.groupby(['ID', 'innings', 'BattingTeam'], sort=False)['total_run'].sum()).reset_index()\n",
    "first_innings = df[df['innings']==1]\n",
    "second_innings = df[df['innings']==2]\n",
    "df = first_innings.merge(second_innings, on='ID')\n",
    "df.drop(columns=['innings_x', 'innings_y'], axis=1, inplace=True)\n",
    "df.head()"
   ]
  },
  {
   "cell_type": "code",
   "execution_count": 17,
   "id": "c763cdd8",
   "metadata": {},
   "outputs": [
    {
     "data": {
      "text/html": [
       "<div>\n",
       "<style scoped>\n",
       "    .dataframe tbody tr th:only-of-type {\n",
       "        vertical-align: middle;\n",
       "    }\n",
       "\n",
       "    .dataframe tbody tr th {\n",
       "        vertical-align: top;\n",
       "    }\n",
       "\n",
       "    .dataframe thead th {\n",
       "        text-align: right;\n",
       "    }\n",
       "</style>\n",
       "<table border=\"1\" class=\"dataframe\">\n",
       "  <thead>\n",
       "    <tr style=\"text-align: right;\">\n",
       "      <th></th>\n",
       "      <th>id</th>\n",
       "      <th>Season</th>\n",
       "      <th>Match</th>\n",
       "      <th>Venue</th>\n",
       "      <th>Winner</th>\n",
       "      <th>Wonby</th>\n",
       "      <th>PlayerOfTheMatch</th>\n",
       "      <th>Team1Players</th>\n",
       "      <th>Team2Players</th>\n",
       "      <th>Team1</th>\n",
       "      <th>Team1Run</th>\n",
       "      <th>Team2</th>\n",
       "      <th>Team2run</th>\n",
       "    </tr>\n",
       "  </thead>\n",
       "  <tbody>\n",
       "    <tr>\n",
       "      <th>0</th>\n",
       "      <td>1312200</td>\n",
       "      <td>2022</td>\n",
       "      <td>Final</td>\n",
       "      <td>Narendra Modi Stadium, Ahmedabad</td>\n",
       "      <td>Gujarat Titans</td>\n",
       "      <td>Wickets</td>\n",
       "      <td>HH Pandya</td>\n",
       "      <td>YBK Jaiswal,JC Buttler,SV Samson,D Padikkal,SO...</td>\n",
       "      <td>WP Saha,Shubman Gill,MS Wade,HH Pandya,DA Mill...</td>\n",
       "      <td>Rajasthan Royals</td>\n",
       "      <td>130</td>\n",
       "      <td>Gujarat Titans</td>\n",
       "      <td>133</td>\n",
       "    </tr>\n",
       "    <tr>\n",
       "      <th>1</th>\n",
       "      <td>1312199</td>\n",
       "      <td>2022</td>\n",
       "      <td>Qualifier 2</td>\n",
       "      <td>Narendra Modi Stadium, Ahmedabad</td>\n",
       "      <td>Rajasthan Royals</td>\n",
       "      <td>Wickets</td>\n",
       "      <td>JC Buttler</td>\n",
       "      <td>V Kohli,F du Plessis,RM Patidar,GJ Maxwell,MK ...</td>\n",
       "      <td>YBK Jaiswal,JC Buttler,SV Samson,D Padikkal,SO...</td>\n",
       "      <td>Royal Challengers Bangalore</td>\n",
       "      <td>157</td>\n",
       "      <td>Rajasthan Royals</td>\n",
       "      <td>161</td>\n",
       "    </tr>\n",
       "    <tr>\n",
       "      <th>2</th>\n",
       "      <td>1312198</td>\n",
       "      <td>2022</td>\n",
       "      <td>Eliminator</td>\n",
       "      <td>Eden Gardens, Kolkata</td>\n",
       "      <td>Royal Challengers Bangalore</td>\n",
       "      <td>Runs</td>\n",
       "      <td>RM Patidar</td>\n",
       "      <td>V Kohli,F du Plessis,RM Patidar,GJ Maxwell,MK ...</td>\n",
       "      <td>Q de Kock,KL Rahul,M Vohra,DJ Hooda,MP Stoinis...</td>\n",
       "      <td>Royal Challengers Bangalore</td>\n",
       "      <td>207</td>\n",
       "      <td>Lucknow Super Giants</td>\n",
       "      <td>193</td>\n",
       "    </tr>\n",
       "    <tr>\n",
       "      <th>3</th>\n",
       "      <td>1312197</td>\n",
       "      <td>2022</td>\n",
       "      <td>Qualifier 1</td>\n",
       "      <td>Eden Gardens, Kolkata</td>\n",
       "      <td>Gujarat Titans</td>\n",
       "      <td>Wickets</td>\n",
       "      <td>DA Miller</td>\n",
       "      <td>YBK Jaiswal,JC Buttler,SV Samson,D Padikkal,SO...</td>\n",
       "      <td>WP Saha,Shubman Gill,MS Wade,HH Pandya,DA Mill...</td>\n",
       "      <td>Rajasthan Royals</td>\n",
       "      <td>188</td>\n",
       "      <td>Gujarat Titans</td>\n",
       "      <td>191</td>\n",
       "    </tr>\n",
       "    <tr>\n",
       "      <th>4</th>\n",
       "      <td>1304116</td>\n",
       "      <td>2022</td>\n",
       "      <td>70</td>\n",
       "      <td>Wankhede Stadium, Mumbai</td>\n",
       "      <td>Punjab Kings</td>\n",
       "      <td>Wickets</td>\n",
       "      <td>Harpreet Brar</td>\n",
       "      <td>PK Garg,Abhishek Sharma,RA Tripathi,AK Markram...</td>\n",
       "      <td>JM Bairstow,S Dhawan,M Shahrukh Khan,MA Agarwa...</td>\n",
       "      <td>Sunrisers Hyderabad</td>\n",
       "      <td>157</td>\n",
       "      <td>Punjab Kings</td>\n",
       "      <td>160</td>\n",
       "    </tr>\n",
       "  </tbody>\n",
       "</table>\n",
       "</div>"
      ],
      "text/plain": [
       "        id  Season        Match                             Venue  \\\n",
       "0  1312200    2022        Final  Narendra Modi Stadium, Ahmedabad   \n",
       "1  1312199    2022  Qualifier 2  Narendra Modi Stadium, Ahmedabad   \n",
       "2  1312198    2022   Eliminator             Eden Gardens, Kolkata   \n",
       "3  1312197    2022  Qualifier 1             Eden Gardens, Kolkata   \n",
       "4  1304116    2022           70          Wankhede Stadium, Mumbai   \n",
       "\n",
       "                        Winner    Wonby PlayerOfTheMatch  \\\n",
       "0               Gujarat Titans  Wickets        HH Pandya   \n",
       "1             Rajasthan Royals  Wickets       JC Buttler   \n",
       "2  Royal Challengers Bangalore     Runs       RM Patidar   \n",
       "3               Gujarat Titans  Wickets        DA Miller   \n",
       "4                 Punjab Kings  Wickets    Harpreet Brar   \n",
       "\n",
       "                                        Team1Players  \\\n",
       "0  YBK Jaiswal,JC Buttler,SV Samson,D Padikkal,SO...   \n",
       "1  V Kohli,F du Plessis,RM Patidar,GJ Maxwell,MK ...   \n",
       "2  V Kohli,F du Plessis,RM Patidar,GJ Maxwell,MK ...   \n",
       "3  YBK Jaiswal,JC Buttler,SV Samson,D Padikkal,SO...   \n",
       "4  PK Garg,Abhishek Sharma,RA Tripathi,AK Markram...   \n",
       "\n",
       "                                        Team2Players  \\\n",
       "0  WP Saha,Shubman Gill,MS Wade,HH Pandya,DA Mill...   \n",
       "1  YBK Jaiswal,JC Buttler,SV Samson,D Padikkal,SO...   \n",
       "2  Q de Kock,KL Rahul,M Vohra,DJ Hooda,MP Stoinis...   \n",
       "3  WP Saha,Shubman Gill,MS Wade,HH Pandya,DA Mill...   \n",
       "4  JM Bairstow,S Dhawan,M Shahrukh Khan,MA Agarwa...   \n",
       "\n",
       "                         Team1  Team1Run                 Team2  Team2run  \n",
       "0             Rajasthan Royals       130        Gujarat Titans       133  \n",
       "1  Royal Challengers Bangalore       157      Rajasthan Royals       161  \n",
       "2  Royal Challengers Bangalore       207  Lucknow Super Giants       193  \n",
       "3             Rajasthan Royals       188        Gujarat Titans       191  \n",
       "4          Sunrisers Hyderabad       157          Punjab Kings       160  "
      ]
     },
     "execution_count": 17,
     "metadata": {},
     "output_type": "execute_result"
    }
   ],
   "source": [
    "raw_data = raw_data.merge(df, on='ID')\n",
    "raw_data.columns = [\n",
    "    'id', 'Season', 'Match', 'Venue', 'Winner', 'Wonby', 'PlayerOfTheMatch', 'Team1Players', 'Team2Players', 'Team1', 'Team1Run', 'Team2', 'Team2run'\n",
    "]\n",
    "raw_data.head()"
   ]
  },
  {
   "cell_type": "markdown",
   "id": "ab8cdf3b",
   "metadata": {},
   "source": [
    "# Data Inserting in mysql server"
   ]
  },
  {
   "cell_type": "code",
   "execution_count": 18,
   "id": "d9419c1c",
   "metadata": {},
   "outputs": [],
   "source": [
    "import mysql.connector\n",
    "  \n",
    "db = mysql.connector.connect(\n",
    "  host =\"localhost\",\n",
    "  user =\"root\",\n",
    "  passwd =\"12345678rk\"\n",
    ")\n",
    "cursor = db.cursor()"
   ]
  },
  {
   "cell_type": "code",
   "execution_count": 19,
   "id": "ad6ba18a",
   "metadata": {},
   "outputs": [
    {
     "data": {
      "text/plain": [
       "[('information_schema',),\n",
       " ('ipl',),\n",
       " ('mysql',),\n",
       " ('performance_schema',),\n",
       " ('test',)]"
      ]
     },
     "execution_count": 19,
     "metadata": {},
     "output_type": "execute_result"
    }
   ],
   "source": [
    "cursor.execute('show databases')\n",
    "cursor.fetchall()"
   ]
  },
  {
   "cell_type": "code",
   "execution_count": 20,
   "id": "ac9b6c3a",
   "metadata": {},
   "outputs": [
    {
     "data": {
      "text/plain": [
       "[('information_schema',),\n",
       " ('ipl',),\n",
       " ('mysql',),\n",
       " ('performance_schema',),\n",
       " ('test',)]"
      ]
     },
     "execution_count": 20,
     "metadata": {},
     "output_type": "execute_result"
    }
   ],
   "source": [
    "cursor.execute('show databases')\n",
    "cursor.fetchall()"
   ]
  },
  {
   "cell_type": "code",
   "execution_count": 21,
   "id": "ee7de6c0",
   "metadata": {},
   "outputs": [],
   "source": [
    "from sqlalchemy import create_engine\n",
    "engine = create_engine(\n",
    "    \"mysql+pymysql://\" + \"root\" + \":\" + \"12345678rk\" + \"@\" + \"localhost\" + \":\" + \"3306\" + \"/\" + \"ipl\" + \"?\" + \"charset=utf8mb4\"\n",
    ")"
   ]
  },
  {
   "cell_type": "code",
   "execution_count": 22,
   "id": "06a640b2",
   "metadata": {},
   "outputs": [
    {
     "data": {
      "text/plain": [
       "900"
      ]
     },
     "execution_count": 22,
     "metadata": {},
     "output_type": "execute_result"
    }
   ],
   "source": [
    "raw_data.to_sql('matches', engine, index=False)"
   ]
  },
  {
   "cell_type": "markdown",
   "id": "40ccf60e",
   "metadata": {},
   "source": [
    "# EDA"
   ]
  },
  {
   "cell_type": "code",
   "execution_count": 23,
   "id": "8530a17e",
   "metadata": {},
   "outputs": [
    {
     "data": {
      "text/html": [
       "<div>\n",
       "<style scoped>\n",
       "    .dataframe tbody tr th:only-of-type {\n",
       "        vertical-align: middle;\n",
       "    }\n",
       "\n",
       "    .dataframe tbody tr th {\n",
       "        vertical-align: top;\n",
       "    }\n",
       "\n",
       "    .dataframe thead th {\n",
       "        text-align: right;\n",
       "    }\n",
       "</style>\n",
       "<table border=\"1\" class=\"dataframe\">\n",
       "  <thead>\n",
       "    <tr style=\"text-align: right;\">\n",
       "      <th></th>\n",
       "      <th>id</th>\n",
       "      <th>Season</th>\n",
       "      <th>Match</th>\n",
       "      <th>Venue</th>\n",
       "      <th>Winner</th>\n",
       "      <th>Wonby</th>\n",
       "      <th>PlayerOfTheMatch</th>\n",
       "      <th>Team1Players</th>\n",
       "      <th>Team2Players</th>\n",
       "      <th>Team1</th>\n",
       "      <th>Team1Run</th>\n",
       "      <th>Team2</th>\n",
       "      <th>Team2run</th>\n",
       "    </tr>\n",
       "  </thead>\n",
       "  <tbody>\n",
       "    <tr>\n",
       "      <th>0</th>\n",
       "      <td>1312200</td>\n",
       "      <td>2022</td>\n",
       "      <td>Final</td>\n",
       "      <td>Narendra Modi Stadium, Ahmedabad</td>\n",
       "      <td>Gujarat Titans</td>\n",
       "      <td>Wickets</td>\n",
       "      <td>HH Pandya</td>\n",
       "      <td>YBK Jaiswal,JC Buttler,SV Samson,D Padikkal,SO...</td>\n",
       "      <td>WP Saha,Shubman Gill,MS Wade,HH Pandya,DA Mill...</td>\n",
       "      <td>Rajasthan Royals</td>\n",
       "      <td>130</td>\n",
       "      <td>Gujarat Titans</td>\n",
       "      <td>133</td>\n",
       "    </tr>\n",
       "    <tr>\n",
       "      <th>1</th>\n",
       "      <td>1312199</td>\n",
       "      <td>2022</td>\n",
       "      <td>Qualifier 2</td>\n",
       "      <td>Narendra Modi Stadium, Ahmedabad</td>\n",
       "      <td>Rajasthan Royals</td>\n",
       "      <td>Wickets</td>\n",
       "      <td>JC Buttler</td>\n",
       "      <td>V Kohli,F du Plessis,RM Patidar,GJ Maxwell,MK ...</td>\n",
       "      <td>YBK Jaiswal,JC Buttler,SV Samson,D Padikkal,SO...</td>\n",
       "      <td>Royal Challengers Bangalore</td>\n",
       "      <td>157</td>\n",
       "      <td>Rajasthan Royals</td>\n",
       "      <td>161</td>\n",
       "    </tr>\n",
       "    <tr>\n",
       "      <th>2</th>\n",
       "      <td>1312198</td>\n",
       "      <td>2022</td>\n",
       "      <td>Eliminator</td>\n",
       "      <td>Eden Gardens, Kolkata</td>\n",
       "      <td>Royal Challengers Bangalore</td>\n",
       "      <td>Runs</td>\n",
       "      <td>RM Patidar</td>\n",
       "      <td>V Kohli,F du Plessis,RM Patidar,GJ Maxwell,MK ...</td>\n",
       "      <td>Q de Kock,KL Rahul,M Vohra,DJ Hooda,MP Stoinis...</td>\n",
       "      <td>Royal Challengers Bangalore</td>\n",
       "      <td>207</td>\n",
       "      <td>Lucknow Super Giants</td>\n",
       "      <td>193</td>\n",
       "    </tr>\n",
       "    <tr>\n",
       "      <th>3</th>\n",
       "      <td>1312197</td>\n",
       "      <td>2022</td>\n",
       "      <td>Qualifier 1</td>\n",
       "      <td>Eden Gardens, Kolkata</td>\n",
       "      <td>Gujarat Titans</td>\n",
       "      <td>Wickets</td>\n",
       "      <td>DA Miller</td>\n",
       "      <td>YBK Jaiswal,JC Buttler,SV Samson,D Padikkal,SO...</td>\n",
       "      <td>WP Saha,Shubman Gill,MS Wade,HH Pandya,DA Mill...</td>\n",
       "      <td>Rajasthan Royals</td>\n",
       "      <td>188</td>\n",
       "      <td>Gujarat Titans</td>\n",
       "      <td>191</td>\n",
       "    </tr>\n",
       "    <tr>\n",
       "      <th>4</th>\n",
       "      <td>1304116</td>\n",
       "      <td>2022</td>\n",
       "      <td>70</td>\n",
       "      <td>Wankhede Stadium, Mumbai</td>\n",
       "      <td>Punjab Kings</td>\n",
       "      <td>Wickets</td>\n",
       "      <td>Harpreet Brar</td>\n",
       "      <td>PK Garg,Abhishek Sharma,RA Tripathi,AK Markram...</td>\n",
       "      <td>JM Bairstow,S Dhawan,M Shahrukh Khan,MA Agarwa...</td>\n",
       "      <td>Sunrisers Hyderabad</td>\n",
       "      <td>157</td>\n",
       "      <td>Punjab Kings</td>\n",
       "      <td>160</td>\n",
       "    </tr>\n",
       "  </tbody>\n",
       "</table>\n",
       "</div>"
      ],
      "text/plain": [
       "        id  Season        Match                             Venue  \\\n",
       "0  1312200    2022        Final  Narendra Modi Stadium, Ahmedabad   \n",
       "1  1312199    2022  Qualifier 2  Narendra Modi Stadium, Ahmedabad   \n",
       "2  1312198    2022   Eliminator             Eden Gardens, Kolkata   \n",
       "3  1312197    2022  Qualifier 1             Eden Gardens, Kolkata   \n",
       "4  1304116    2022           70          Wankhede Stadium, Mumbai   \n",
       "\n",
       "                        Winner    Wonby PlayerOfTheMatch  \\\n",
       "0               Gujarat Titans  Wickets        HH Pandya   \n",
       "1             Rajasthan Royals  Wickets       JC Buttler   \n",
       "2  Royal Challengers Bangalore     Runs       RM Patidar   \n",
       "3               Gujarat Titans  Wickets        DA Miller   \n",
       "4                 Punjab Kings  Wickets    Harpreet Brar   \n",
       "\n",
       "                                        Team1Players  \\\n",
       "0  YBK Jaiswal,JC Buttler,SV Samson,D Padikkal,SO...   \n",
       "1  V Kohli,F du Plessis,RM Patidar,GJ Maxwell,MK ...   \n",
       "2  V Kohli,F du Plessis,RM Patidar,GJ Maxwell,MK ...   \n",
       "3  YBK Jaiswal,JC Buttler,SV Samson,D Padikkal,SO...   \n",
       "4  PK Garg,Abhishek Sharma,RA Tripathi,AK Markram...   \n",
       "\n",
       "                                        Team2Players  \\\n",
       "0  WP Saha,Shubman Gill,MS Wade,HH Pandya,DA Mill...   \n",
       "1  YBK Jaiswal,JC Buttler,SV Samson,D Padikkal,SO...   \n",
       "2  Q de Kock,KL Rahul,M Vohra,DJ Hooda,MP Stoinis...   \n",
       "3  WP Saha,Shubman Gill,MS Wade,HH Pandya,DA Mill...   \n",
       "4  JM Bairstow,S Dhawan,M Shahrukh Khan,MA Agarwa...   \n",
       "\n",
       "                         Team1  Team1Run                 Team2  Team2run  \n",
       "0             Rajasthan Royals       130        Gujarat Titans       133  \n",
       "1  Royal Challengers Bangalore       157      Rajasthan Royals       161  \n",
       "2  Royal Challengers Bangalore       207  Lucknow Super Giants       193  \n",
       "3             Rajasthan Royals       188        Gujarat Titans       191  \n",
       "4          Sunrisers Hyderabad       157          Punjab Kings       160  "
      ]
     },
     "execution_count": 23,
     "metadata": {},
     "output_type": "execute_result"
    }
   ],
   "source": [
    "raw_data.head()"
   ]
  },
  {
   "cell_type": "markdown",
   "id": "856e2097",
   "metadata": {},
   "source": [
    "### Max winner team"
   ]
  },
  {
   "cell_type": "code",
   "execution_count": 24,
   "id": "2db016e9",
   "metadata": {},
   "outputs": [
    {
     "data": {
      "image/png": "[encoded data removed]",
      "text/plain": [
       "<Figure size 1500x1000 with 2 Axes>"
      ]
     },
     "metadata": {},
     "output_type": "display_data"
    }
   ],
   "source": [
    "plt.figure(figsize=(15, 10))\n",
    "plt.subplot(211)\n",
    "sns.countplot(y=raw_data['Winner'], palette='bright', saturation=1)\n",
    "plt.subplot(212)\n",
    "sns.countplot(y=raw_data[raw_data['Match']=='Final']['Winner'], palette='bright', saturation=1)\n",
    "plt.show()"
   ]
  },
  {
   "cell_type": "markdown",
   "id": "80be5bbf",
   "metadata": {},
   "source": [
    "Mumbai indians won most of the match and most of the finals"
   ]
  },
  {
   "cell_type": "markdown",
   "id": "ec5c726e",
   "metadata": {},
   "source": [
    "### Player of the match"
   ]
  },
  {
   "cell_type": "code",
   "execution_count": 25,
   "id": "21c174a0",
   "metadata": {},
   "outputs": [
    {
     "data": {
      "image/png": "[encoded data removed]",
      "text/plain": [
       "<Figure size 640x480 with 1 Axes>"
      ]
     },
     "metadata": {},
     "output_type": "display_data"
    }
   ],
   "source": [
    "top_players = pd.DataFrame(\n",
    "    raw_data.groupby('PlayerOfTheMatch')['id'].count()\n",
    ").sort_values(by='id', ascending=False)[:5]\n",
    "\n",
    "plt.pie(\n",
    "    top_players['id'], labels=top_players['id'].index,\n",
    "    shadow=True, autopct='%1i', explode=[0.2, 0.1, 0.1, 0, 0]\n",
    ")\n",
    "plt.show()"
   ]
  },
  {
   "cell_type": "markdown",
   "id": "17907952",
   "metadata": {},
   "source": [
    "### most played ground"
   ]
  },
  {
   "cell_type": "code",
   "execution_count": 26,
   "id": "bfb7de3f",
   "metadata": {},
   "outputs": [
    {
     "data": {
      "image/png": "[encoded data removed]",
      "text/plain": [
       "<Figure size 640x480 with 1 Axes>"
      ]
     },
     "metadata": {},
     "output_type": "display_data"
    }
   ],
   "source": [
    "top_venue = pd.DataFrame(\n",
    "    raw_data.groupby('Venue')['id'].count()\n",
    ").sort_values(by='id', ascending=False)[:5]\n",
    "\n",
    "plt.pie(\n",
    "    top_venue['id'], labels=top_venue['id'].index,\n",
    "    shadow=True, autopct='%1i', explode=[0.2, 0.1, 0.1, 0, 0]\n",
    ")\n",
    "plt.show()"
   ]
  },
  {
   "cell_type": "markdown",
   "id": "6363a7ed",
   "metadata": {},
   "source": [
    "Eden garden is most ipl played ground"
   ]
  }
 ],
 "metadata": {
  "kernelspec": {
   "display_name": "Python 3 (ipykernel)",
   "language": "python",
   "name": "python3"
  },
  "language_info": {
   "codemirror_mode": {
    "name": "ipython",
    "version": 3
   },
   "file_extension": ".py",
   "mimetype": "text/x-python",
   "name": "python",
   "nbconvert_exporter": "python",
   "pygments_lexer": "ipython3",
   "version": "3.9.16"
  }
 },
 "nbformat": 4,
 "nbformat_minor": 5
}
