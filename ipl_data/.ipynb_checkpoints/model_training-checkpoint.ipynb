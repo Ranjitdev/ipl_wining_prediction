{
 "cells": [
  {
   "cell_type": "markdown",
   "id": "b853bc78",
   "metadata": {},
   "source": [
    "### Model Training"
   ]
  },
  {
   "cell_type": "code",
   "execution_count": 1,
   "id": "a71396c4",
   "metadata": {},
   "outputs": [],
   "source": [
    "import pandas as pd\n",
    "import numpy as np\n",
    "import seaborn as sns\n",
    "import matplotlib.pyplot as plt\n",
    "import dill\n",
    "import warnings\n",
    "warnings.simplefilter('ignore')\n",
    "pd.set_option('display.max_columns', None)\n",
    "%matplotlib inline"
   ]
  },
  {
   "cell_type": "code",
   "execution_count": 2,
   "id": "d425b9ce",
   "metadata": {},
   "outputs": [
    {
     "data": {
      "text/html": [
       "<div>\n",
       "<style scoped>\n",
       "    .dataframe tbody tr th:only-of-type {\n",
       "        vertical-align: middle;\n",
       "    }\n",
       "\n",
       "    .dataframe tbody tr th {\n",
       "        vertical-align: top;\n",
       "    }\n",
       "\n",
       "    .dataframe thead th {\n",
       "        text-align: right;\n",
       "    }\n",
       "</style>\n",
       "<table border=\"1\" class=\"dataframe\">\n",
       "  <thead>\n",
       "    <tr style=\"text-align: right;\">\n",
       "      <th></th>\n",
       "      <th>Batting</th>\n",
       "      <th>Bowling</th>\n",
       "      <th>Venue</th>\n",
       "      <th>Runs_left</th>\n",
       "      <th>Balls_left</th>\n",
       "      <th>Wicket_left</th>\n",
       "      <th>Total_run</th>\n",
       "      <th>crr</th>\n",
       "      <th>rrr</th>\n",
       "      <th>Result</th>\n",
       "    </tr>\n",
       "  </thead>\n",
       "  <tbody>\n",
       "    <tr>\n",
       "      <th>7282</th>\n",
       "      <td>Rajasthan Royals</td>\n",
       "      <td>Mumbai Indians</td>\n",
       "      <td>Dr DY Patil Sports Academy, Mumbai</td>\n",
       "      <td>106</td>\n",
       "      <td>84</td>\n",
       "      <td>9</td>\n",
       "      <td>158</td>\n",
       "      <td>7.57</td>\n",
       "      <td>7.57</td>\n",
       "      <td>0</td>\n",
       "    </tr>\n",
       "    <tr>\n",
       "      <th>8674</th>\n",
       "      <td>Royal Challengers Bangalore</td>\n",
       "      <td>Rajasthan Royals</td>\n",
       "      <td>Maharashtra Cricket Association Stadium, Pune</td>\n",
       "      <td>-71</td>\n",
       "      <td>51</td>\n",
       "      <td>-3</td>\n",
       "      <td>144</td>\n",
       "      <td>17.28</td>\n",
       "      <td>-8.35</td>\n",
       "      <td>0</td>\n",
       "    </tr>\n",
       "    <tr>\n",
       "      <th>10884</th>\n",
       "      <td>Chennai Super Kings</td>\n",
       "      <td>Gujarat Titans</td>\n",
       "      <td>Maharashtra Cricket Association Stadium, Pune</td>\n",
       "      <td>130</td>\n",
       "      <td>89</td>\n",
       "      <td>8</td>\n",
       "      <td>169</td>\n",
       "      <td>6.49</td>\n",
       "      <td>8.76</td>\n",
       "      <td>0</td>\n",
       "    </tr>\n",
       "    <tr>\n",
       "      <th>80497</th>\n",
       "      <td>Delhi Daredevils</td>\n",
       "      <td>Delhi Capitals</td>\n",
       "      <td>Feroz Shah Kotla</td>\n",
       "      <td>148</td>\n",
       "      <td>94</td>\n",
       "      <td>10</td>\n",
       "      <td>188</td>\n",
       "      <td>7.69</td>\n",
       "      <td>9.45</td>\n",
       "      <td>0</td>\n",
       "    </tr>\n",
       "    <tr>\n",
       "      <th>190734</th>\n",
       "      <td>Royal Challengers Bangalore</td>\n",
       "      <td>Punjab Kings</td>\n",
       "      <td>Punjab Cricket Association Stadium, Mohali</td>\n",
       "      <td>11</td>\n",
       "      <td>10</td>\n",
       "      <td>3</td>\n",
       "      <td>143</td>\n",
       "      <td>6.88</td>\n",
       "      <td>6.60</td>\n",
       "      <td>0</td>\n",
       "    </tr>\n",
       "  </tbody>\n",
       "</table>\n",
       "</div>"
      ],
      "text/plain": [
       "                            Batting           Bowling  \\\n",
       "7282               Rajasthan Royals    Mumbai Indians   \n",
       "8674    Royal Challengers Bangalore  Rajasthan Royals   \n",
       "10884           Chennai Super Kings    Gujarat Titans   \n",
       "80497              Delhi Daredevils    Delhi Capitals   \n",
       "190734  Royal Challengers Bangalore      Punjab Kings   \n",
       "\n",
       "                                                Venue  Runs_left  Balls_left  \\\n",
       "7282               Dr DY Patil Sports Academy, Mumbai        106          84   \n",
       "8674    Maharashtra Cricket Association Stadium, Pune        -71          51   \n",
       "10884   Maharashtra Cricket Association Stadium, Pune        130          89   \n",
       "80497                                Feroz Shah Kotla        148          94   \n",
       "190734     Punjab Cricket Association Stadium, Mohali         11          10   \n",
       "\n",
       "        Wicket_left  Total_run    crr   rrr  Result  \n",
       "7282              9        158   7.57  7.57       0  \n",
       "8674             -3        144  17.28 -8.35       0  \n",
       "10884             8        169   6.49  8.76       0  \n",
       "80497            10        188   7.69  9.45       0  \n",
       "190734            3        143   6.88  6.60       0  "
      ]
     },
     "execution_count": 2,
     "metadata": {},
     "output_type": "execute_result"
    }
   ],
   "source": [
    "data = pd.read_csv('data.csv')\n",
    "data = data.sample(axis=0, frac=1, random_state=51)\n",
    "data.head()"
   ]
  },
  {
   "cell_type": "code",
   "execution_count": 3,
   "id": "8fe5a57d",
   "metadata": {},
   "outputs": [],
   "source": [
    "from sklearn.linear_model import LogisticRegression\n",
    "from sklearn.svm import SVC\n",
    "from sklearn.ensemble import RandomForestClassifier\n",
    "\n",
    "from sklearn.metrics import accuracy_score\n",
    "\n",
    "from sklearn.preprocessing import OneHotEncoder, StandardScaler\n",
    "from sklearn.impute import SimpleImputer\n",
    "from sklearn.pipeline import make_pipeline, Pipeline\n",
    "from sklearn.compose import ColumnTransformer\n",
    "from sklearn.model_selection import train_test_split, GridSearchCV"
   ]
  },
  {
   "cell_type": "code",
   "execution_count": 4,
   "id": "844ef913",
   "metadata": {},
   "outputs": [],
   "source": [
    "models = {\n",
    "    'LogisticRegression' : LogisticRegression(),\n",
    "    'RandomForestClassifier' : RandomForestClassifier()\n",
    "}"
   ]
  },
  {
   "cell_type": "code",
   "execution_count": 5,
   "id": "b404f593",
   "metadata": {},
   "outputs": [],
   "source": [
    "params = {\n",
    "    'LogisticRegression' : {\n",
    "        'penalty': ['l2'],\n",
    "        'solver': ['liblinear', 'newton-cholesky'],\n",
    "        'C':[100]\n",
    "    },\n",
    "    'RandomForestClassifier' : {\n",
    "#        'n_estimators':range(10, 100, 10),\n",
    "        'criterion':['gini', 'entropy', 'log_loss'],\n",
    "#         'max_depth':range(3, 25, 1),\n",
    "#         'min_samples_split':range(2, 15, 1),\n",
    "#         'min_samples_leaf':range(1, 15, 1),\n",
    "#         'max_features':['sqrt','log2']\n",
    "    }\n",
    "}"
   ]
  },
  {
   "cell_type": "code",
   "execution_count": 6,
   "id": "8d060886",
   "metadata": {},
   "outputs": [],
   "source": [
    "x = data.drop('Result', axis=1)\n",
    "y = data.iloc[:,-1]\n",
    "x_train, x_test, y_train, y_test = train_test_split(x, y, train_size=0.8, random_state=1)"
   ]
  },
  {
   "cell_type": "code",
   "execution_count": 7,
   "id": "b57437ae",
   "metadata": {},
   "outputs": [],
   "source": [
    "def transform_pipe():\n",
    "    num_cols = ['Runs_left', 'Balls_left', 'Wicket_left', 'Total_run', 'crr', 'rrr']\n",
    "    cat_cols = ['Batting', 'Bowling', 'Venue']\n",
    "    num_pipe = make_pipeline(\n",
    "        SimpleImputer(strategy='median'),\n",
    "        StandardScaler()\n",
    "    )\n",
    "    cat_pipe = make_pipeline(\n",
    "        SimpleImputer(strategy='most_frequent'),\n",
    "        OneHotEncoder()\n",
    "    )\n",
    "    transformer_obj = ColumnTransformer([\n",
    "        ('num_pipe', num_pipe, num_cols),\n",
    "        ('cat_pipe', cat_pipe, cat_cols)\n",
    "    ], remainder='passthrough')\n",
    "    return transformer_obj"
   ]
  },
  {
   "cell_type": "code",
   "execution_count": 8,
   "id": "47b9bab2",
   "metadata": {},
   "outputs": [],
   "source": [
    "def training_pipe(x_train, x_test, y_train, y_test):\n",
    "    transformer_obj = transform_pipe()\n",
    "    train_arr = transformer_obj.fit_transform(x_train)\n",
    "    test_arr = transformer_obj.fit_transform(x_test)\n",
    "    test_result = {}\n",
    "    \n",
    "    for i in models:\n",
    "        model = models[i]\n",
    "        param = params[i]\n",
    "        gs = GridSearchCV(\n",
    "            model, param, scoring='accuracy', n_jobs=-1, verbose=2, cv=5, error_score='raise'\n",
    "        )\n",
    "        gs.fit(train_arr, y_train)\n",
    "        \n",
    "        model.set_params(**gs.best_params_)\n",
    "        model.fit(train_arr, y_train)\n",
    "        \n",
    "        train_pred = model.predict(train_arr)\n",
    "        train_score = accuracy_score(y_train, train_pred)*100\n",
    "        \n",
    "        test_pred = model.predict(test_arr)\n",
    "        test_score = accuracy_score(y_test, test_pred)*100\n",
    "        \n",
    "        test_result[i] = {\n",
    "            'train score':[train_score],\n",
    "            'test score':[test_score],\n",
    "            'best parameters':[gs.best_params_]\n",
    "        }\n",
    "    return pd.DataFrame(test_result)"
   ]
  },
  {
   "cell_type": "code",
   "execution_count": 9,
   "id": "0090890d",
   "metadata": {},
   "outputs": [
    {
     "name": "stdout",
     "output_type": "stream",
     "text": [
      "Fitting 5 folds for each of 2 candidates, totalling 10 fits\n",
      "Fitting 5 folds for each of 3 candidates, totalling 15 fits\n"
     ]
    }
   ],
   "source": [
    "result = training_pipe(x_train, x_test, y_train, y_test)"
   ]
  },
  {
   "cell_type": "code",
   "execution_count": 10,
   "id": "47a3e599",
   "metadata": {},
   "outputs": [
    {
     "name": "stdout",
     "output_type": "stream",
     "text": [
      "                                                LogisticRegression  \\\n",
      "train score                                    [69.23096286972938]   \n",
      "test score                                     [68.98504757589488]   \n",
      "best parameters  [{'C': 100, 'penalty': 'l2', 'solver': 'newton...   \n",
      "\n",
      "                     RandomForestClassifier  \n",
      "train score             [99.99307740717433]  \n",
      "test score              [99.91693097719377]  \n",
      "best parameters  [{'criterion': 'entropy'}]  \n"
     ]
    }
   ],
   "source": [
    "result.to_csv('train_test.csv', index=False)\n",
    "print(result)"
   ]
  },
  {
   "cell_type": "code",
   "execution_count": 11,
   "id": "dfb660c7",
   "metadata": {},
   "outputs": [],
   "source": [
    "transformer_obj = transform_pipe()\n",
    "transformer_obj.fit(x)\n",
    "with open('preprocessor.pkl', 'wb') as file:\n",
    "    dill.dump(transformer_obj, file)"
   ]
  },
  {
   "cell_type": "code",
   "execution_count": 12,
   "id": "86087f19",
   "metadata": {},
   "outputs": [],
   "source": [
    "with open('preprocessor.pkl', 'rb') as file:\n",
    "    pre = dill.load(file)\n",
    "train_arr = pre.transform(x_train)\n",
    "param = {'C': 100, 'penalty': 'l2', 'solver': 'newton-cholesky'}\n",
    "model = LogisticRegression()\n",
    "model.set_params(**param)\n",
    "model.fit(train_arr, y_train)\n",
    "with open('LRegressor.pkl', 'wb') as file:\n",
    "    dill.dump(model, file)"
   ]
  },
  {
   "cell_type": "code",
   "execution_count": 13,
   "id": "7cb2a6de",
   "metadata": {},
   "outputs": [],
   "source": [
    "with open('preprocessor.pkl', 'rb') as file:\n",
    "    pre = dill.load(file)\n",
    "train_arr = pre.transform(x_train)\n",
    "param = {'criterion': 'log_loss'}\n",
    "model = RandomForestClassifier()\n",
    "model.set_params(**param)\n",
    "model.fit(train_arr, y_train)\n",
    "with open('RFClassifier.pkl', 'wb') as file:\n",
    "    dill.dump(model, file)"
   ]
  },
  {
   "cell_type": "code",
   "execution_count": 14,
   "id": "338d92a6",
   "metadata": {},
   "outputs": [],
   "source": [
    "with open('preprocessor.pkl', 'rb') as file:\n",
    "    preprocessor = dill.load(file)\n",
    "\n",
    "with open('RFClassifier.pkl', 'rb') as file:\n",
    "    model = dill.load(file)\n",
    "\n",
    "df = data[data['Batting']=='Chennai Super Kings'].tail(10)\n",
    "x_n = df.drop('Result', axis=1)\n",
    "y_n = df.iloc[:,-1]"
   ]
  },
  {
   "cell_type": "code",
   "execution_count": 15,
   "id": "377c59a0",
   "metadata": {},
   "outputs": [
    {
     "name": "stdout",
     "output_type": "stream",
     "text": [
      "Testing percentage :  100.0\n"
     ]
    }
   ],
   "source": [
    "arr = preprocessor.transform(x_test)\n",
    "model.fit(arr, y_test)\n",
    "pred = model.predict(arr)\n",
    "print('Testing percentage : ', np.round(accuracy_score(y_test, pred)*100, 2))"
   ]
  },
  {
   "cell_type": "code",
   "execution_count": 16,
   "id": "51b1adaf",
   "metadata": {},
   "outputs": [
    {
     "name": "stdout",
     "output_type": "stream",
     "text": [
      "Prediction percentage :  100.0\n"
     ]
    }
   ],
   "source": [
    "arr = preprocessor.transform(x_n)\n",
    "model.fit(arr, y_n)\n",
    "pred = model.predict(arr)\n",
    "print('Prediction percentage : ', np.round(accuracy_score(y_n, pred)*100, 2))"
   ]
  },
  {
   "cell_type": "code",
   "execution_count": 17,
   "id": "b5b88177",
   "metadata": {},
   "outputs": [
    {
     "name": "stdout",
     "output_type": "stream",
     "text": [
      "Winning and loss probabilities : \n",
      "[[73. 27.]\n",
      " [58. 42.]\n",
      " [ 4. 96.]\n",
      " [69. 31.]\n",
      " [11. 89.]\n",
      " [13. 87.]\n",
      " [14. 86.]\n",
      " [ 9. 91.]\n",
      " [11. 89.]\n",
      " [ 7. 93.]]\n"
     ]
    }
   ],
   "source": [
    "prob = model.predict_proba(arr)\n",
    "print('Winning and loss probabilities : ')\n",
    "print(np.round(prob*100, 2))"
   ]
  }
 ],
 "metadata": {
  "kernelspec": {
   "display_name": "Python 3 (ipykernel)",
   "language": "python",
   "name": "python3"
  },
  "language_info": {
   "codemirror_mode": {
    "name": "ipython",
    "version": 3
   },
   "file_extension": ".py",
   "mimetype": "text/x-python",
   "name": "python",
   "nbconvert_exporter": "python",
   "pygments_lexer": "ipython3",
   "version": "3.9.16"
  }
 },
 "nbformat": 4,
 "nbformat_minor": 5
}
